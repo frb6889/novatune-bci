{
 "cells": [
  {
   "cell_type": "code",
   "execution_count": 4,
   "id": "2ca42c4c",
   "metadata": {},
   "outputs": [],
   "source": [
    "import numpy as np\n",
    "import time\n",
    "from IPython.display import clear_output\n",
    "import scipy.signal as signal\n",
    "import mne\n",
    "import matplotlib.pyplot as plt\n",
    "from IPython.display import display, clear_output\n",
    "import time\n",
    "from settings.config import Settings\n",
    "from device.data_client import NeuracleDataClient\n",
    "\n",
    "config_info = Settings.CONFIG_INFO\n",
    "# get data\n",
    "config_info['buffer_length'] = 1\n",
    "receiver = NeuracleDataClient(n_channel=len(config_info['channel_labels']),\n",
    "                    samplerate=config_info['sample_rate'], \n",
    "                    host=config_info['host'],\n",
    "                    port=config_info['port'],\n",
    "                    buffer_len=config_info['buffer_length'])\n"
   ]
  },
  {
   "cell_type": "code",
   "execution_count": 5,
   "id": "fe984879",
   "metadata": {},
   "outputs": [],
   "source": [
    "# functions getting data\n",
    "def _parse_data(data):\n",
    "    fs, event, data_array = data\n",
    "    # do preprocessing\n",
    "#     data_array = reref(data_array, self.reref_method)\n",
    "    return fs, event, data_array\n",
    "\n",
    "# 模拟数据生成函数（用于离线测试）\n",
    "def generate_random_ecog_data(n_channels=8, n_samples=1000):\n",
    "    \"\"\"生成随机EEG数据模拟在线获取\"\"\"\n",
    "    return np.random.randn(n_channels, n_samples) * 100  # 8通道×1000时间点\n",
    "\n",
    "# 滤波函数\n",
    "def bandpass_filter(data, lowcut=1, highcut=300, fs=1000):\n",
    "    nyq = 0.5 * fs  # 奈奎斯特频率\n",
    "    low = lowcut / nyq\n",
    "    high = highcut / nyq\n",
    "    order = 4  # 滤波器阶数\n",
    "    b, a = signal.butter(order, [low, high], btype='band')\n",
    "    return signal.filtfilt(b, a, data)\n"
   ]
  },
  {
   "cell_type": "code",
   "execution_count": 6,
   "id": "d01e0bc8",
   "metadata": {},
   "outputs": [
    {
     "name": "stdout",
     "output_type": "stream",
     "text": [
      "更新时间: 2025-07-30 14:35:13\n",
      "8个通道的高频gamma能量分别是: \n",
      "+------------------------------+\n",
      "|  通道  |     能量值     |\n",
      "+------------------------------+\n",
      "|   1   |  2.906571022441462e-09  |\n",
      "|   2   |  3.1975223875509288e-09  |\n",
      "|   3   |  2.3060659620667714e-09  |\n",
      "|   4   |  1.7607254486607871e-09  |\n",
      "|   5   |  3.484565550952091e-09  |\n",
      "|   6   |  4.475897162528113e-09  |\n",
      "|   7   |  3.822431068174922e-09  |\n",
      "|   8   |  2.442077512938307e-09  |\n",
      "+------------------------------+\n",
      "下次更新将在1.0秒后... (按Ctrl+C停止)\n",
      "\n",
      "实时监控已停止\n"
     ]
    }
   ],
   "source": [
    "\n",
    "# 主循环\n",
    "def main_loop(interval=1.0):\n",
    "    \"\"\"主循环函数，interval为更新间隔(秒)\"\"\"\n",
    "    try:\n",
    "        while True:\n",
    "            # 模拟在线获取数据（实际使用时替换为你的真实数据获取代码）\n",
    "            # data = generate_random_ecog_data()\n",
    "\n",
    "            # 真实的ECoG数据处理\n",
    "            data_from_buffer= receiver.get_trial_data(clear=True)\n",
    "            fs, event, data = _parse_data(data_from_buffer)\n",
    "\n",
    "            \n",
    "            # 滤波处理\n",
    "            data_highGM = bandpass_filter(data, lowcut=60, highcut=200)\n",
    "            \n",
    "            # 计算high-gamma频带能量\n",
    "            energy = np.sum(data_highGM ** 2, axis=1)  # 向量化计算\n",
    "            \n",
    "            # 清屏并打印结果\n",
    "            clear_output(wait=True)\n",
    "            print(f\"更新时间: {time.strftime('%Y-%m-%d %H:%M:%S')}\")\n",
    "            print(\"8个通道的高频gamma能量分别是: \")\n",
    "            print(\"+\" + \"-\"*30 + \"+\")\n",
    "            print(\"|  通道  |     能量值     |\")\n",
    "            print(\"+\" + \"-\"*30 + \"+\")\n",
    "            for ch in range(8):\n",
    "                print(f\"|  {ch+1:2d}   |  {energy[ch]}  |\")\n",
    "            print(\"+\" + \"-\"*30 + \"+\")\n",
    "            print(f\"下次更新将在{interval}秒后... (按Ctrl+C停止)\")\n",
    "            \n",
    "            # 等待指定间隔\n",
    "            time.sleep(interval)\n",
    "            \n",
    "    except KeyboardInterrupt:\n",
    "        print(\"\\n实时监控已停止\")\n",
    "\n",
    "if __name__ == \"__main__\":\n",
    "    print(\"开始高频gamma能量实时监控...\")\n",
    "    main_loop(interval=1.0)  # 1秒更新一次"
   ]
  },
  {
   "cell_type": "code",
   "execution_count": 7,
   "id": "212fca78",
   "metadata": {},
   "outputs": [
    {
     "name": "stdout",
     "output_type": "stream",
     "text": [
      "更新时间: 2025-07-30 14:36:33\n",
      "8个通道的高频gamma能量分别是: \n",
      "+------------------------------+\n",
      "|  通道  |     能量值     |\n",
      "+------------------------------+\n",
      "|   1   |  4.24896746595459e-09  |\n",
      "|   2   |  3.908452366950994e-09  |\n",
      "|   3   |  3.6322359655432595e-09  |\n",
      "|   4   |  2.8946198975559055e-09  |\n",
      "|   5   |  5.14286780349761e-09  |\n",
      "|   6   |  5.43981596436322e-09  |\n",
      "|   7   |  4.447027571321829e-09  |\n",
      "|   8   |  3.9446447200198e-09  |\n",
      "+------------------------------+\n"
     ]
    }
   ],
   "source": [
    "\n",
    "data_from_buffer= receiver.get_trial_data(clear=False)\n",
    "fs, event, data = _parse_data(data_from_buffer)\n",
    "\n",
    "\n",
    "# 滤波处理\n",
    "data_highGM = bandpass_filter(data, lowcut=60, highcut=200)\n",
    "\n",
    "# 计算high-gamma频带能量\n",
    "energy = np.sum(data_highGM ** 2, axis=1)  # 向量化计算\n",
    "\n",
    "# 清屏并打印结果\n",
    "clear_output(wait=True)\n",
    "print(f\"更新时间: {time.strftime('%Y-%m-%d %H:%M:%S')}\")\n",
    "print(\"8个通道的高频gamma能量分别是: \")\n",
    "print(\"+\" + \"-\"*30 + \"+\")\n",
    "print(\"|  通道  |     能量值     |\")\n",
    "print(\"+\" + \"-\"*30 + \"+\")\n",
    "for ch in range(8):\n",
    "    print(f\"|  {ch+1:2d}   |  {energy[ch]}  |\")\n",
    "print(\"+\" + \"-\"*30 + \"+\")\n",
    "# print(f\"下次更新将在{interval}秒后... (按Ctrl+C停止)\")\n"
   ]
  },
  {
   "cell_type": "code",
   "execution_count": null,
   "id": "9c776743",
   "metadata": {},
   "outputs": [],
   "source": []
  },
  {
   "cell_type": "code",
   "execution_count": null,
   "id": "7c819f00",
   "metadata": {},
   "outputs": [],
   "source": []
  }
 ],
 "metadata": {
  "kernelspec": {
   "display_name": "kraken",
   "language": "python",
   "name": "python3"
  },
  "language_info": {
   "codemirror_mode": {
    "name": "ipython",
    "version": 3
   },
   "file_extension": ".py",
   "mimetype": "text/x-python",
   "name": "python",
   "nbconvert_exporter": "python",
   "pygments_lexer": "ipython3",
   "version": "3.10.11"
  }
 },
 "nbformat": 4,
 "nbformat_minor": 5
}
